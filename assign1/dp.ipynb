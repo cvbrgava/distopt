{
 "metadata": {
  "name": "dp"
 },
 "nbformat": 3,
 "nbformat_minor": 0,
 "worksheets": [
  {
   "cells": [
    {
     "cell_type": "code",
     "collapsed": false,
     "input": [
      "def initiatedp(volume, value, weight ):\n",
      "\treturn [ (0,[0]) if weight > vol else (value, [1]) for vol in range( volume + 1 )]\n",
      "\n",
      "def dynamicprog( weights , values, volume ):\n",
      "\tfor index in range( len( weights ) ) :\n",
      "\t\tif index == 0 :\n",
      "\t\t\told = initiatedp( volume, values[ index ] , weights[ index ] ) \n",
      "                \tnew = old \n",
      "\t\telse :\n",
      "\t\t\told = new\n",
      "\t                print old\n",
      "        \t\tnew = [if old[vol][0] > values[ index ] else (values[ index ], old[0][1]+[1]) for vol in range( volume + 1 ) if vol < weights[ index ]]+[ (old[vol][0], old[vol][1]+ [0]) if (old[vol][0]) > (values[ index ] + old[vol - weights[ index ] ][0])  else (values[ index ] + old[vol - weights[ index ] ][0], old[vol - weights[ index ] ][1]+[1])  if vol - weights[ index ] >= 0 else (old[vol][0], old[vol][1]+[0]) for vol in range( volume + 1 ) if vol > weights[ index ] ]\n",
      "        \n",
      "\t\t\t\n",
      "\n",
      "\n",
      "\treturn new[ -1 ][ 0 ] , new[ -1 ] [ 1 ] \n",
      "\n",
      "\n",
      "\n",
      "if __name__==\"__main__\":\n",
      "\tvalues = [16,19,23,28]\n",
      "\tweights = [2,3,4,5] \n",
      "\tvolume = 7\n",
      "\tvalue_opt, choice_opt = dynamicprog( weights , values, volume )\n",
      "\tprint value_opt, choice_opt\n",
      "\n",
      "\n",
      "\n",
      "\n",
      "\n",
      "\t"
     ],
     "language": "python",
     "metadata": {},
     "outputs": [
      {
       "output_type": "stream",
       "stream": "stdout",
       "text": [
        "[(0, [0]), (0, [0]), (16, [1]), (16, [1]), (16, [1]), (16, [1]), (16, [1]), (16, [1])]\n",
        "[(19, [0, 1]), (19, [0, 1]), (19, [0, 1]), (19, [0, 1]), (19, [0, 1]), (35, [1, 1]), (35, [1, 1]), (35, [1, 1])]\n",
        "[(23, [0, 1, 1]), (23, [0, 1, 1]), (23, [0, 1, 1]), (23, [0, 1, 1]), (42, [0, 1, 1]), (42, [0, 1, 1]), (42, [0, 1, 1]), (42, [0, 1, 1])]\n",
        "51 [0, 1, 1, 1]\n"
       ]
      }
     ],
     "prompt_number": 44
    },
    {
     "cell_type": "code",
     "collapsed": false,
     "input": [
      "old = initiatedp( volume, values[ 0 ] , weights[ 0 ] ) "
     ],
     "language": "python",
     "metadata": {},
     "outputs": [],
     "prompt_number": 29
    },
    {
     "cell_type": "code",
     "collapsed": false,
     "input": [
      "[ ( old[ vol ][ 0 ] , old[ vol ][1 ]+ [ 0 ] ) for vol in range( volume + 1 ) ]"
     ],
     "language": "python",
     "metadata": {},
     "outputs": [
      {
       "output_type": "pyout",
       "prompt_number": 31,
       "text": [
        "[(0, [0, 0]),\n",
        " (0, [0, 0]),\n",
        " (16, [1, 0]),\n",
        " (16, [1, 0]),\n",
        " (16, [1, 0]),\n",
        " (16, [1, 0]),\n",
        " (16, [1, 0]),\n",
        " (16, [1, 0])]"
       ]
      }
     ],
     "prompt_number": 31
    },
    {
     "cell_type": "code",
     "collapsed": false,
     "input": [
      "[ 0 if 1 > 0 else 2 if 0<3 else 2 ] "
     ],
     "language": "python",
     "metadata": {},
     "outputs": [
      {
       "output_type": "pyout",
       "prompt_number": 47,
       "text": [
        "[0]"
       ]
      }
     ],
     "prompt_number": 47
    },
    {
     "cell_type": "code",
     "collapsed": false,
     "input": [],
     "language": "python",
     "metadata": {},
     "outputs": []
    }
   ],
   "metadata": {}
  }
 ]
}